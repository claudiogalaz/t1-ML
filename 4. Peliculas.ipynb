{
 "cells": [
  {
   "cell_type": "markdown",
   "metadata": {},
   "source": [
    "### 4 Predicción de Utilidades de Películas\n",
    "\n",
    "Como la matriz X de las características está compuesta por una gran cantidad de ceros, entonces conviene trabajar con ella como una matriz de estructura dispersa (*sparse*), la cual entrega información sobre la matriz según es presentada en el enunciado. Para poder usar este tipo de matrices en Python se utiliza la función *csr_matrix*. \n",
    "A continuación se cargan los datos de entrenamiento en las variables **X** (características) e **y** (respuestas)."
   ]
  },
  {
   "cell_type": "code",
   "execution_count": 2,
   "metadata": {
    "collapsed": false,
    "scrolled": true
   },
   "outputs": [],
   "source": [
    "import pandas as pd\n",
    "import numpy as np\n",
    "from scipy.sparse import csr_matrix\n",
    "from scipy.io import mmread\n",
    "X = csr_matrix(mmread('train.x.mm'))\n",
    "y = np.loadtxt('train.y.dat')"
   ]
  },
  {
   "cell_type": "markdown",
   "metadata": {},
   "source": [
    "Ahora hay que cargar los datos de validación que fueron proporcionados junto con los datos de *training*. Se utilizan estos con el fin de no realizar cross-validation con los datos de entrenamiento. Estos datos servirán para realizar tests de los distintos modelos lineales posibles, y a partir de estos se elegirá el modelo que tenga mejor coeficiente de determinación ($R^2$)."
   ]
  },
  {
   "cell_type": "code",
   "execution_count": 3,
   "metadata": {
    "collapsed": true
   },
   "outputs": [],
   "source": [
    "X_val = csr_matrix(mmread('dev.x.mm'))\n",
    "y_val = np.loadtxt('dev.y.dat')"
   ]
  },
  {
   "cell_type": "markdown",
   "metadata": {},
   "source": [
    "A continuación se debe encontrar un modelo lineal en  *sklearn* que pueda entregar un coeficiente de determinación mayor a $0.75$. Se probaron muchos modelos lineales: mínimos cuadrados, Ridge, Lasso, SGD (gradiente descendiente), etc, pero la que obtuvo un mejor coeficiente fue Elastic Net, llegando a un $R^2 = 0,621652$ y demorándose unos 15 minutos en llegar al máximo de 1000 iteraciones (default). Aumentando la cantidad de iteraciones a 2500, el tiempo de ejecución aumentó proporcionalmente y el coeficiente mejoró tan solo hasta $R^2 = 0,624256$. \n",
    "\n",
    "Algunos modelos lineales de *sklearn* no pudieron ser utilizados ya que requería que la matriz fuese de tipo densa (*dense*)."
   ]
  },
  {
   "cell_type": "code",
   "execution_count": 20,
   "metadata": {
    "collapsed": false
   },
   "outputs": [
    {
     "name": "stdout",
     "output_type": "stream",
     "text": [
      "R2=0.621652\n",
      "1.30122920413e+14\n"
     ]
    },
    {
     "name": "stderr",
     "output_type": "stream",
     "text": [
      "C:\\Anaconda2\\lib\\site-packages\\sklearn\\linear_model\\coordinate_descent.py:466: ConvergenceWarning: Objective did not converge. You might want to increase the number of iterations\n",
      "  ConvergenceWarning)\n"
     ]
    }
   ],
   "source": [
    "#import sklearn.linear_model as lm\n",
    "from sklearn.linear_model import ElasticNet\n",
    "#model = lm.LinearRegression(fit_intercept = True)\n",
    "#model.fit(X,y)\n",
    "\n",
    "model = ElasticNet(fit_intercept=True)\n",
    "#model.set_params(alpha=1000)\n",
    "model.fit(X,y)\n",
    "\n",
    "print \"R2=%f\"%model.score(X_val, y_val)\n",
    "bla = model.predict(X_val)\n",
    "mse_test = np.mean(np.power(bla - y_val, 2))\n",
    "print mse_test"
   ]
  }
 ],
 "metadata": {
  "kernelspec": {
   "display_name": "Python 2",
   "language": "python",
   "name": "python2"
  },
  "language_info": {
   "codemirror_mode": {
    "name": "ipython",
    "version": 2
   },
   "file_extension": ".py",
   "mimetype": "text/x-python",
   "name": "python",
   "nbconvert_exporter": "python",
   "pygments_lexer": "ipython2",
   "version": "2.7.11"
  }
 },
 "nbformat": 4,
 "nbformat_minor": 0
}
